{
 "cells": [
  {
   "cell_type": "markdown",
   "metadata": {},
   "source": [
    "# 파이썬 초초초보"
   ]
  },
  {
   "cell_type": "markdown",
   "metadata": {},
   "source": [
    "PYTHON 3"
   ]
  },
  {
   "cell_type": "markdown",
   "metadata": {},
   "source": [
    "### 변수 이름 만들기"
   ]
  },
  {
   "cell_type": "markdown",
   "metadata": {},
   "source": [
    "변수 이름은 영어알파벳 또는 언더바로 시작해야 합니다."
   ]
  },
  {
   "cell_type": "code",
   "execution_count": 1,
   "metadata": {
    "collapsed": true
   },
   "outputs": [],
   "source": [
    "a = 1\n",
    "my_name = 'Hoon'\n",
    "MYNAME = 'Kim'\n",
    "YOUR_Name = 'Lee'\n",
    "_apple = 500."
   ]
  },
  {
   "cell_type": "markdown",
   "metadata": {},
   "source": [
    "다음의 이름들은 변수 이름으로 사용할 수 없습니다."
   ]
  },
  {
   "cell_type": "code",
   "execution_count": 2,
   "metadata": {
    "collapsed": true
   },
   "outputs": [],
   "source": [
    "import keyword"
   ]
  },
  {
   "cell_type": "code",
   "execution_count": 53,
   "metadata": {
    "collapsed": false
   },
   "outputs": [
    {
     "data": {
      "text/plain": [
       "['False', 'None', 'True', 'and', 'as', 'assert', 'break', 'class', 'continue', 'def', 'del', 'elif', 'else', 'except', 'finally', 'for', 'from', 'global', 'if', 'import', 'in', 'is', 'lambda', 'nonlocal', 'not', 'or', 'pass', 'raise', 'return', 'try', 'while', 'with', 'yield']"
      ]
     },
     "execution_count": 53,
     "metadata": {},
     "output_type": "execute_result"
    }
   ],
   "source": [
    "keyword.kwlist"
   ]
  },
  {
   "cell_type": "markdown",
   "metadata": {},
   "source": [
    "### 변수에 값 대입하기"
   ]
  },
  {
   "cell_type": "markdown",
   "metadata": {},
   "source": [
    "##### 숫자"
   ]
  },
  {
   "cell_type": "code",
   "execution_count": 4,
   "metadata": {
    "collapsed": false
   },
   "outputs": [
    {
     "name": "stdout",
     "output_type": "stream",
     "text": [
      "3\n"
     ]
    }
   ],
   "source": [
    "number = 1                   # number에 숫자 1을 대입\n",
    "number = number + 2          # number에 원래 number에 있던 값에 2를 더하여 대입\n",
    "print(number)                # number 값 출력"
   ]
  },
  {
   "cell_type": "markdown",
   "metadata": {},
   "source": [
    "##### 문자"
   ]
  },
  {
   "cell_type": "code",
   "execution_count": 5,
   "metadata": {
    "collapsed": false
   },
   "outputs": [
    {
     "name": "stdout",
     "output_type": "stream",
     "text": [
      "applepie\n"
     ]
    }
   ],
   "source": [
    "alphabet = 'apple'           # 변수명 alphabet에 string 'apple'을 대입\n",
    "alphabet = alphabet + 'pie'  # 문자열에 문자열을 더하여 alphabet에 대입\n",
    "print(alphabet)              # 변수명 alphabet 값 출력"
   ]
  },
  {
   "cell_type": "markdown",
   "metadata": {},
   "source": [
    "### 주석 사용하기"
   ]
  },
  {
   "cell_type": "code",
   "execution_count": 6,
   "metadata": {
    "collapsed": true
   },
   "outputs": [],
   "source": [
    "# 만든이 : Royden\n",
    "# 만든 날짜 : 2017.08.10. 금요일"
   ]
  },
  {
   "cell_type": "code",
   "execution_count": 7,
   "metadata": {
    "collapsed": true
   },
   "outputs": [],
   "source": [
    "\"\"\"\n",
    "   길다란 주석\n",
    "\"\"\"\n",
    "a = 5"
   ]
  },
  {
   "cell_type": "markdown",
   "metadata": {},
   "source": [
    "### 자료형"
   ]
  },
  {
   "cell_type": "code",
   "execution_count": 8,
   "metadata": {
    "collapsed": true
   },
   "outputs": [],
   "source": [
    "int_data = 10                  # 정수\n",
    "float_dat = 3.1415             # 실수\n",
    "complex_data = 1+2j            # 복소수\n",
    "string_data_1 = 'I LOVE MATH'  # 문자열\n",
    "string_data_2 = '수학이 제일 좋아' # 문자열\n",
    "list_data = [0, 1, 0, 1, 2, 3, 4, 0, 0, 0, 0]    # 리스트\n",
    "tuple_data = (9, 87, 6, 543, 2, 1)               # 튜플\n",
    "dict_data = {'apple': 'red', 'banana': 'yellow'} # 사전"
   ]
  },
  {
   "cell_type": "markdown",
   "metadata": {},
   "source": [
    "- 리스트는 순서 있게 객체를 나열한 자료형. 각 요소는 콤마로 구분함.\n",
    "- 튜플은 리스트와 비슷하지만 요소 값을 바꿀 수 없음.\n",
    "- 사전은 {} 안에 키:값 으로 된 요소가 들어 있는 순서가 없는 자료형."
   ]
  },
  {
   "cell_type": "markdown",
   "metadata": {},
   "source": [
    "# 파이썬 사용하기"
   ]
  },
  {
   "cell_type": "markdown",
   "metadata": {},
   "source": [
    "제어문, 함수이름, 클래스이름 뒤에 콜론(:)으로 끝을 표시함.\n",
    "\n",
    "콜론 다음 줄부터 실행 코드를 작성함."
   ]
  },
  {
   "cell_type": "markdown",
   "metadata": {},
   "source": [
    "1. **가장 바깥쪽(위쪽)의 실행 코드**는 들여쓰기 없이 실행해야 함.\n",
    "2. **콜론 다음 라인부터 시작하는 실행 코드**는 들여쓰기 간격이 모두 동일해야 함."
   ]
  },
  {
   "cell_type": "markdown",
   "metadata": {},
   "source": [
    "## 조건문"
   ]
  },
  {
   "cell_type": "markdown",
   "metadata": {},
   "source": [
    "##### 조건이 하나일 때"
   ]
  },
  {
   "cell_type": "markdown",
   "metadata": {},
   "source": [
    "if 조건:\n",
    "\n",
    "    실행코드"
   ]
  },
  {
   "cell_type": "markdown",
   "metadata": {},
   "source": [
    "##### 조건을 만족하지 않는 경우 else를 쓴다"
   ]
  },
  {
   "cell_type": "markdown",
   "metadata": {},
   "source": [
    "if 조건:\n",
    "    \n",
    "    실행코드\n",
    "\n",
    "else:\n",
    "    \n",
    "    실행코드"
   ]
  },
  {
   "cell_type": "markdown",
   "metadata": {},
   "source": [
    "##### 조건이 여러 개 일 때"
   ]
  },
  {
   "cell_type": "markdown",
   "metadata": {},
   "source": [
    "if 조건:\n",
    "    \n",
    "    실행코드\n",
    "    \n",
    "elif 조건:\n",
    "    \n",
    "    실행코드"
   ]
  },
  {
   "cell_type": "code",
   "execution_count": 9,
   "metadata": {
    "collapsed": false
   },
   "outputs": [
    {
     "name": "stdout",
     "output_type": "stream",
     "text": [
      "a가 data에 있습니다.\n",
      "b, c가 있는지는 모르겠네요.\n"
     ]
    }
   ],
   "source": [
    "data = ['a', 'b', 'c']\n",
    "if 'a' in data:\n",
    "    print('a가 data에 있습니다.')\n",
    "    print('b, c가 있는지는 모르겠네요.')\n",
    "else:\n",
    "    print('a가 data에 없습니다.')"
   ]
  },
  {
   "cell_type": "markdown",
   "metadata": {},
   "source": [
    "## 반복문 1"
   ]
  },
  {
   "cell_type": "markdown",
   "metadata": {},
   "source": [
    "for 변수 in 범위:\n",
    "\n",
    "    반복으로 실행할 코드"
   ]
  },
  {
   "cell_type": "code",
   "execution_count": 10,
   "metadata": {
    "collapsed": false
   },
   "outputs": [
    {
     "name": "stdout",
     "output_type": "stream",
     "text": [
      "2\n",
      "3\n",
      "5\n",
      "7\n",
      "9\n"
     ]
    }
   ],
   "source": [
    "data = [2, 3, 5, 7, 9]\n",
    "for x in data:\n",
    "    print(x)"
   ]
  },
  {
   "cell_type": "code",
   "execution_count": 11,
   "metadata": {
    "collapsed": false
   },
   "outputs": [
    {
     "name": "stdout",
     "output_type": "stream",
     "text": [
      "a\n",
      "b\n",
      "c\n",
      "d\n",
      "e\n"
     ]
    }
   ],
   "source": [
    "string = 'abcde'\n",
    "for s in string:\n",
    "    print(s)"
   ]
  },
  {
   "cell_type": "markdown",
   "metadata": {},
   "source": [
    "## 반복문과 조건문 섞어보기"
   ]
  },
  {
   "cell_type": "code",
   "execution_count": 12,
   "metadata": {
    "collapsed": false
   },
   "outputs": [
    {
     "name": "stdout",
     "output_type": "stream",
     "text": [
      "2\n",
      "3\n"
     ]
    }
   ],
   "source": [
    "data = [2, 3, 4, 5, 6]\n",
    "for x in data:\n",
    "    print(x)\n",
    "    if x < 3:\n",
    "        continue   # 반복문 계속 수행\n",
    "    else:\n",
    "        break      # 반복문 중지"
   ]
  },
  {
   "cell_type": "markdown",
   "metadata": {},
   "source": [
    "## for과 else"
   ]
  },
  {
   "cell_type": "code",
   "execution_count": 13,
   "metadata": {
    "collapsed": false
   },
   "outputs": [
    {
     "name": "stdout",
     "output_type": "stream",
     "text": [
      "1 a\n",
      "1 b\n",
      "2 a\n",
      "2 b\n",
      "3 a\n",
      "3 b\n",
      "끝!\n"
     ]
    }
   ],
   "source": [
    "data1 = [1, 2, 3]\n",
    "data2 = ['a', 'b']\n",
    "for x in data1:\n",
    "    for y in data2:\n",
    "        print(x, y)\n",
    "else: # for 반복이 모두 끝났을 때 실행할 코드\n",
    "    print(\"끝!\")"
   ]
  },
  {
   "cell_type": "markdown",
   "metadata": {},
   "source": [
    "## 반복문 2"
   ]
  },
  {
   "cell_type": "code",
   "execution_count": 14,
   "metadata": {
    "collapsed": false
   },
   "outputs": [
    {
     "name": "stdout",
     "output_type": "stream",
     "text": [
      "1\n",
      "2\n",
      "3\n",
      "4\n",
      "5\n"
     ]
    }
   ],
   "source": [
    "x = 0\n",
    "while x < 5:\n",
    "    x = x + 1\n",
    "    print(x)"
   ]
  },
  {
   "cell_type": "code",
   "execution_count": 15,
   "metadata": {
    "collapsed": false
   },
   "outputs": [
    {
     "name": "stdout",
     "output_type": "stream",
     "text": [
      "3 is 3\n"
     ]
    }
   ],
   "source": [
    "x = 0\n",
    "while x < 5:\n",
    "    x = x + 1\n",
    "    if x == 3:\n",
    "        print(x, 'is 3')"
   ]
  },
  {
   "cell_type": "markdown",
   "metadata": {},
   "source": [
    "# 문제 1"
   ]
  },
  {
   "cell_type": "markdown",
   "metadata": {},
   "source": [
    "직각 삼각형을 출력하시오."
   ]
  },
  {
   "cell_type": "code",
   "execution_count": 16,
   "metadata": {
    "collapsed": false
   },
   "outputs": [
    {
     "name": "stdout",
     "output_type": "stream",
     "text": [
      "\n",
      "*\n",
      "**\n",
      "***\n",
      "****\n",
      "*****\n",
      "******\n",
      "*******\n",
      "********\n",
      "*********\n"
     ]
    }
   ],
   "source": [
    "for i in range(10):\n",
    "    print(i*'*')"
   ]
  },
  {
   "cell_type": "markdown",
   "metadata": {},
   "source": [
    "오른쪽으로 정렬된 직각 삼각형을 출력하시오."
   ]
  },
  {
   "cell_type": "code",
   "execution_count": 17,
   "metadata": {
    "collapsed": false
   },
   "outputs": [
    {
     "name": "stdout",
     "output_type": "stream",
     "text": [
      "           \n",
      "          *\n",
      "         **\n",
      "        ***\n",
      "       ****\n",
      "      *****\n",
      "     ******\n",
      "    *******\n",
      "   ********\n",
      "  *********\n"
     ]
    }
   ],
   "source": [
    "for i in range(10):\n",
    "    print(' '*(10-i), i*'*')"
   ]
  },
  {
   "cell_type": "markdown",
   "metadata": {},
   "source": [
    "역직각 삼각형을 출력하시오."
   ]
  },
  {
   "cell_type": "code",
   "execution_count": 18,
   "metadata": {
    "collapsed": false
   },
   "outputs": [
    {
     "data": {
      "text/plain": [
       "[9, 8, 7, 6, 5, 4, 3, 2, 1, 0]"
      ]
     },
     "execution_count": 18,
     "metadata": {},
     "output_type": "execute_result"
    }
   ],
   "source": [
    "list(range(10))[::-1]"
   ]
  },
  {
   "cell_type": "code",
   "execution_count": 19,
   "metadata": {
    "collapsed": false
   },
   "outputs": [
    {
     "name": "stdout",
     "output_type": "stream",
     "text": [
      "*********\n",
      "********\n",
      "*******\n",
      "******\n",
      "*****\n",
      "****\n",
      "***\n",
      "**\n",
      "*\n",
      "\n"
     ]
    }
   ],
   "source": [
    "data = list(range(10))[::-1]\n",
    "for i in data:\n",
    "    print(i*'*')"
   ]
  },
  {
   "cell_type": "code",
   "execution_count": 20,
   "metadata": {
    "collapsed": false
   },
   "outputs": [
    {
     "name": "stdout",
     "output_type": "stream",
     "text": [
      "**********\n",
      "*********\n",
      "********\n",
      "*******\n",
      "******\n",
      "*****\n",
      "****\n",
      "***\n",
      "**\n",
      "*\n"
     ]
    }
   ],
   "source": [
    "data = range(10)\n",
    "for i in data:\n",
    "    print('*'*(10-i))"
   ]
  },
  {
   "cell_type": "markdown",
   "metadata": {},
   "source": [
    "오른쪽 정렬된 역직각 삼각형을 출력하시오."
   ]
  },
  {
   "cell_type": "code",
   "execution_count": 21,
   "metadata": {
    "collapsed": false
   },
   "outputs": [
    {
     "name": "stdout",
     "output_type": "stream",
     "text": [
      " **********\n",
      "  *********\n",
      "   ********\n",
      "    *******\n",
      "     ******\n",
      "      *****\n",
      "       ****\n",
      "        ***\n",
      "         **\n",
      "          *\n"
     ]
    }
   ],
   "source": [
    "data = range(10)\n",
    "for i in data:\n",
    "    print(' '*i, '*'*(10-i))"
   ]
  },
  {
   "cell_type": "markdown",
   "metadata": {
    "collapsed": true
   },
   "source": [
    "# 문제 2"
   ]
  },
  {
   "cell_type": "markdown",
   "metadata": {},
   "source": [
    "1부터 100까지 더한 값을 구하시오."
   ]
  },
  {
   "cell_type": "code",
   "execution_count": 22,
   "metadata": {
    "collapsed": true
   },
   "outputs": [],
   "source": [
    "value = 0\n",
    "for i in range(1, 101):\n",
    "    value += i"
   ]
  },
  {
   "cell_type": "code",
   "execution_count": 23,
   "metadata": {
    "collapsed": false
   },
   "outputs": [
    {
     "name": "stdout",
     "output_type": "stream",
     "text": [
      "5050\n"
     ]
    }
   ],
   "source": [
    "print(value)"
   ]
  },
  {
   "cell_type": "markdown",
   "metadata": {},
   "source": [
    "$$\\frac{n(n+1)}{2}$$ 을 이용해서 합 구하기"
   ]
  },
  {
   "cell_type": "code",
   "execution_count": 24,
   "metadata": {
    "collapsed": true
   },
   "outputs": [],
   "source": [
    "def f(n):\n",
    "    return n*(n+1)/2"
   ]
  },
  {
   "cell_type": "code",
   "execution_count": 25,
   "metadata": {
    "collapsed": false
   },
   "outputs": [
    {
     "data": {
      "text/plain": [
       "5050.0"
      ]
     },
     "execution_count": 25,
     "metadata": {},
     "output_type": "execute_result"
    }
   ],
   "source": [
    "f(100)"
   ]
  },
  {
   "cell_type": "markdown",
   "metadata": {},
   "source": [
    "# 문제 3"
   ]
  },
  {
   "cell_type": "markdown",
   "metadata": {},
   "source": [
    "피보나치 수열을 구하는 코드를 짜보자"
   ]
  },
  {
   "cell_type": "markdown",
   "metadata": {},
   "source": [
    "![](http://www.maths.surrey.ac.uk/hosted-sites/R.Knott/Fibonacci/fibrab.gif)"
   ]
  },
  {
   "cell_type": "markdown",
   "metadata": {},
   "source": [
    "##### 1 1 2 3 5 8 13 21 ..."
   ]
  },
  {
   "cell_type": "markdown",
   "metadata": {},
   "source": [
    "#### 반복문으로 짜보자"
   ]
  },
  {
   "cell_type": "code",
   "execution_count": 26,
   "metadata": {
    "collapsed": false
   },
   "outputs": [
    {
     "name": "stdout",
     "output_type": "stream",
     "text": [
      "1\n",
      "1\n",
      "2\n",
      "3\n",
      "5\n",
      "8\n",
      "13\n",
      "21\n",
      "34\n",
      "55\n",
      "89\n",
      "144\n"
     ]
    }
   ],
   "source": [
    "a = 1\n",
    "b = 1\n",
    "print(a)\n",
    "print(b)\n",
    "for i in range(10):\n",
    "    c = a + b\n",
    "    print(c)\n",
    "    a = b\n",
    "    b = c"
   ]
  },
  {
   "cell_type": "code",
   "execution_count": 27,
   "metadata": {
    "collapsed": false
   },
   "outputs": [
    {
     "name": "stdout",
     "output_type": "stream",
     "text": [
      "1\n",
      "1\n",
      "2\n",
      "3\n",
      "5\n",
      "8\n",
      "13\n",
      "21\n",
      "34\n",
      "55\n",
      "89\n",
      "144\n"
     ]
    }
   ],
   "source": [
    "a = 1\n",
    "b = 1\n",
    "print(a)\n",
    "print(b)\n",
    "for i in range(10):\n",
    "    c = a + b\n",
    "    print(c)\n",
    "    a, b = b, c"
   ]
  },
  {
   "cell_type": "markdown",
   "metadata": {},
   "source": [
    "#### 함수로 짜보자"
   ]
  },
  {
   "cell_type": "code",
   "execution_count": 28,
   "metadata": {
    "collapsed": true
   },
   "outputs": [],
   "source": [
    "def fibo(n):\n",
    "    if (n<=2):\n",
    "        return 1\n",
    "    else:\n",
    "        return fibo(n-1) + fibo(n-2)"
   ]
  },
  {
   "cell_type": "code",
   "execution_count": 29,
   "metadata": {
    "collapsed": false
   },
   "outputs": [
    {
     "data": {
      "text/plain": [
       "5"
      ]
     },
     "execution_count": 29,
     "metadata": {},
     "output_type": "execute_result"
    }
   ],
   "source": [
    "fibo(5)"
   ]
  },
  {
   "cell_type": "code",
   "execution_count": 30,
   "metadata": {
    "collapsed": false
   },
   "outputs": [
    {
     "data": {
      "text/plain": [
       "6765"
      ]
     },
     "execution_count": 30,
     "metadata": {},
     "output_type": "execute_result"
    }
   ],
   "source": [
    "fibo(20)"
   ]
  },
  {
   "cell_type": "code",
   "execution_count": 31,
   "metadata": {
    "collapsed": false
   },
   "outputs": [
    {
     "name": "stdout",
     "output_type": "stream",
     "text": [
      "1\n",
      "1\n",
      "2\n",
      "3\n",
      "5\n",
      "8\n",
      "13\n",
      "21\n",
      "34\n",
      "55\n"
     ]
    }
   ],
   "source": [
    "for i in range(1, 11):\n",
    "    print(fibo(i))"
   ]
  },
  {
   "cell_type": "markdown",
   "metadata": {},
   "source": [
    "# 문제 4"
   ]
  },
  {
   "cell_type": "markdown",
   "metadata": {},
   "source": [
    "몬티홀 딜레마를 짜보자"
   ]
  },
  {
   "cell_type": "markdown",
   "metadata": {},
   "source": [
    "![](http://www.grand-illusions.com/images/articles/articles/monty_hall/mainimage.jpg)"
   ]
  },
  {
   "cell_type": "markdown",
   "metadata": {},
   "source": [
    "![](http://i.imgur.com/tGCjNwH.png)"
   ]
  },
  {
   "cell_type": "code",
   "execution_count": 32,
   "metadata": {
    "collapsed": true
   },
   "outputs": [],
   "source": [
    "import random # random 라이브러리를 불러오자"
   ]
  },
  {
   "cell_type": "code",
   "execution_count": 33,
   "metadata": {
    "collapsed": true
   },
   "outputs": [],
   "source": [
    "doors = [\"A\", \"B\", \"C\"] # 문 세 개를 만들자\n",
    "\n",
    "prize = random.choice(doors) # 문 세 개 중에 하나를 랜덤하게 선택하자"
   ]
  },
  {
   "cell_type": "code",
   "execution_count": 34,
   "metadata": {
    "collapsed": false
   },
   "outputs": [
    {
     "data": {
      "text/plain": [
       "'A'"
      ]
     },
     "execution_count": 34,
     "metadata": {},
     "output_type": "execute_result"
    }
   ],
   "source": [
    "doors[0] # 내가 선택한 문을 첫 번째 문이라고 하자"
   ]
  },
  {
   "cell_type": "code",
   "execution_count": 35,
   "metadata": {
    "collapsed": true
   },
   "outputs": [],
   "source": [
    "def MC(myanswer, prize):\n",
    "    \"\"\"\n",
    "    진행자 함수.\n",
    "    내가 선택한 답과 정답인 문을 알려주면\n",
    "    내가 선택한 답과 정답이 아닌 문을 하나 알려준다.\n",
    "    \"\"\"\n",
    "    candidates = [\"A\", \"B\", \"C\"] # 후보 리스트를 하나 만들자\n",
    "    if myanswer == prize: # 만약 내 답과 정답이 같으면 \n",
    "        candidates.remove(prize) # 정답을 후보리스트에서 지우자\n",
    "    else: # 내 답이 정답과 같지 않으면\n",
    "        candidates.remove(prize) # 후보리스트에서 정답을 지우고 \n",
    "        candidates.remove(myanswer) # 후보리스트에서 내 답을 지우자\n",
    "    return random.choice(candidates) # 남아 있는 후보 중에 랜덤하게 선택해서 return 하자."
   ]
  },
  {
   "cell_type": "code",
   "execution_count": 36,
   "metadata": {
    "collapsed": false
   },
   "outputs": [
    {
     "data": {
      "text/plain": [
       "'C'"
      ]
     },
     "execution_count": 36,
     "metadata": {},
     "output_type": "execute_result"
    }
   ],
   "source": [
    "MC(doors[0], prize) # MC에게 내가 선택한 문과 정답을 알려주면, 내가 선택하지 않은 문 중에서 정답이 아닌 문을 하나 보여준다."
   ]
  },
  {
   "cell_type": "markdown",
   "metadata": {},
   "source": [
    "##### 내 답을 유지하는 실험"
   ]
  },
  {
   "cell_type": "code",
   "execution_count": 37,
   "metadata": {
    "collapsed": false
   },
   "outputs": [
    {
     "name": "stdout",
     "output_type": "stream",
     "text": [
      ":: 실험 0\n",
      "실패\n",
      ":: 실험 1\n",
      "당첨!\n",
      ":: 실험 2\n",
      "실패\n",
      ":: 실험 3\n",
      "실패\n",
      ":: 실험 4\n",
      "당첨!\n",
      ":: 실험 5\n",
      "실패\n",
      ":: 실험 6\n",
      "실패\n",
      ":: 실험 7\n",
      "당첨!\n",
      ":: 실험 8\n",
      "실패\n",
      ":: 실험 9\n",
      "당첨!\n"
     ]
    }
   ],
   "source": [
    "doors = [\"A\", \"B\", \"C\"]\n",
    "for i in range(10):\n",
    "    print(\":: 실험\", i)\n",
    "    \n",
    "    # 상품이 있는 곳을 결정하자.\n",
    "    prize = random.choice(doors)\n",
    "    \n",
    "    # 문을 하나 선택하자.\n",
    "    myanswer = doors[0]\n",
    "    \n",
    "    # 진행자가 문을 하나 열어 보여준다.\n",
    "    opened_door = MC(myanswer, prize)\n",
    "    \n",
    "    # 내 답을 유지한다.\n",
    "    # 아무것도 안함.\n",
    "    \n",
    "    if myanswer == prize:\n",
    "        print('당첨!')\n",
    "    else:\n",
    "        print('실패')"
   ]
  },
  {
   "cell_type": "markdown",
   "metadata": {},
   "source": [
    "##### 내 답을 바꾸는 실험"
   ]
  },
  {
   "cell_type": "code",
   "execution_count": 38,
   "metadata": {
    "collapsed": false
   },
   "outputs": [
    {
     "name": "stdout",
     "output_type": "stream",
     "text": [
      "실험 0\n",
      "실패\n",
      "실험 1\n",
      "당첨!\n",
      "실험 2\n",
      "실패\n",
      "실험 3\n",
      "실패\n",
      "실험 4\n",
      "실패\n",
      "실험 5\n",
      "당첨!\n",
      "실험 6\n",
      "당첨!\n",
      "실험 7\n",
      "당첨!\n",
      "실험 8\n",
      "당첨!\n",
      "실험 9\n",
      "실패\n"
     ]
    }
   ],
   "source": [
    "for i in range(10):\n",
    "    doors = [\"A\", \"B\", \"C\"]\n",
    "    \n",
    "    print(\"실험\", i)\n",
    "    \n",
    "    # 상품이 있는 곳을 결정하자.\n",
    "    prize = random.choice(doors)\n",
    "    \n",
    "    # 문을 하나 선택하자.\n",
    "    myanswer = doors[0]\n",
    "    \n",
    "    # 진행자가 문을 하나 열어 보여준다.\n",
    "    opened_door = MC(myanswer, prize)\n",
    "    \n",
    "    # 내 답을 바꾼다.\n",
    "    doors.remove(myanswer)\n",
    "    doors.remove(opened_door)\n",
    "    \n",
    "    myanswer = doors[0]\n",
    "    \n",
    "    if myanswer == prize:\n",
    "        print('당첨!')\n",
    "    else:\n",
    "        print('실패')"
   ]
  },
  {
   "cell_type": "markdown",
   "metadata": {},
   "source": [
    "### 함수로 만들어 보자"
   ]
  },
  {
   "cell_type": "code",
   "execution_count": 39,
   "metadata": {
    "collapsed": false
   },
   "outputs": [],
   "source": [
    "def nochange():\n",
    "    doors = [\"A\", \"B\", \"C\"]\n",
    "\n",
    "    # 상품이 있는 곳을 결정하자.\n",
    "    prize = random.choice(doors)\n",
    "\n",
    "    # 문을 하나 선택하자.\n",
    "    myanswer = doors[0]\n",
    "\n",
    "    # 진행자가 문을 하나 열어 보여준다.\n",
    "    opened_door = MC(myanswer, prize)\n",
    "\n",
    "    # 내 답을 유지한다.\n",
    "    # 아무것도 안함.\n",
    "\n",
    "    if myanswer == prize:\n",
    "        return 1 # 내 답이 정답이면 1을 반환\n",
    "    else:\n",
    "        return 0 # 내 답이 틀리면 0을 반환"
   ]
  },
  {
   "cell_type": "code",
   "execution_count": 40,
   "metadata": {
    "collapsed": false
   },
   "outputs": [
    {
     "name": "stdout",
     "output_type": "stream",
     "text": [
      "29 / 100\n"
     ]
    }
   ],
   "source": [
    "value = 0\n",
    "for i in range(100):\n",
    "    value += nochange() # 내 답이 정답이면 1을 더하고, 내 답이 틀리면 0을 더한다.\n",
    "print(value, '/ 100')"
   ]
  },
  {
   "cell_type": "code",
   "execution_count": 41,
   "metadata": {
    "collapsed": false
   },
   "outputs": [],
   "source": [
    "result = [] # 최종 결과값을 넣을 리스트를 만들자.\n",
    "for i in range(100): # 100번 시행하는 실험을 100번 실행하자.\n",
    "    value = 0\n",
    "    for i in range(100): # 100번 시행하자\n",
    "        value += nochange() # 당첨된 값을 더하자\n",
    "    result.append(value) # 100번 중 당첨된 시행 결과를 result에 새로운 값으로 넣어주자."
   ]
  },
  {
   "cell_type": "code",
   "execution_count": 51,
   "metadata": {
    "collapsed": false
   },
   "outputs": [
    {
     "name": "stdout",
     "output_type": "stream",
     "text": [
      "Populating the interactive namespace from numpy and matplotlib\n"
     ]
    }
   ],
   "source": [
    "%pylab inline"
   ]
  },
  {
   "cell_type": "code",
   "execution_count": 43,
   "metadata": {
    "collapsed": false
   },
   "outputs": [
    {
     "data": {
      "text/plain": [
       "[<matplotlib.lines.Line2D at 0x7fe528d36630>]"
      ]
     },
     "execution_count": 43,
     "metadata": {},
     "output_type": "execute_result"
    },
    {
     "data": {
      "image/png": "[encoded data removed]",
      "text/plain": [
       "<matplotlib.figure.Figure at 0x7fe5486367b8>"
      ]
     },
     "metadata": {},
     "output_type": "display_data"
    }
   ],
   "source": [
    "plt.plot(result) # 그림으로 그리자"
   ]
  },
  {
   "cell_type": "code",
   "execution_count": 44,
   "metadata": {
    "collapsed": true
   },
   "outputs": [],
   "source": [
    "def change():\n",
    "    doors = [\"A\", \"B\", \"C\"]\n",
    "    # 상품이 있는 곳을 결정하자.\n",
    "    prize = random.choice(doors)\n",
    "    \n",
    "    # 문을 하나 선택하자.\n",
    "    myanswer = doors[0]\n",
    "    \n",
    "    # 진행자가 문을 하나 열어 보여준다.\n",
    "    opened_door = MC(myanswer, prize)\n",
    "    \n",
    "    # 내 답을 바꾼다.\n",
    "    doors.remove(myanswer)\n",
    "    doors.remove(opened_door)\n",
    "    \n",
    "    myanswer = doors[0]\n",
    "    \n",
    "    if myanswer == prize:\n",
    "        return 1\n",
    "    else:\n",
    "        return 0"
   ]
  },
  {
   "cell_type": "code",
   "execution_count": 45,
   "metadata": {
    "collapsed": false
   },
   "outputs": [
    {
     "name": "stdout",
     "output_type": "stream",
     "text": [
      "72\n"
     ]
    }
   ],
   "source": [
    "# 100번 시행해서 당첨된 값을 구해보자.\n",
    "value = 0\n",
    "for i in range(100):\n",
    "    value += change()\n",
    "print(value)"
   ]
  },
  {
   "cell_type": "code",
   "execution_count": 46,
   "metadata": {
    "collapsed": true
   },
   "outputs": [],
   "source": [
    "result = []\n",
    "for i in range(100):\n",
    "    value = 0\n",
    "    for i in range(100):\n",
    "        value += change()\n",
    "    result.append(value)"
   ]
  },
  {
   "cell_type": "code",
   "execution_count": 47,
   "metadata": {
    "collapsed": false
   },
   "outputs": [
    {
     "data": {
      "text/plain": [
       "[<matplotlib.lines.Line2D at 0x7fe528ca4470>]"
      ]
     },
     "execution_count": 47,
     "metadata": {},
     "output_type": "execute_result"
    },
    {
     "data": {
      "image/png": "[encoded data removed]",
      "text/plain": [
       "<matplotlib.figure.Figure at 0x7fe528bf7a58>"
      ]
     },
     "metadata": {},
     "output_type": "display_data"
    }
   ],
   "source": [
    "plt.plot(result)"
   ]
  },
  {
   "cell_type": "markdown",
   "metadata": {},
   "source": [
    "#### 최종 함수를 만들어 보자."
   ]
  },
  {
   "cell_type": "code",
   "execution_count": 48,
   "metadata": {
    "collapsed": true
   },
   "outputs": [],
   "source": [
    "result_change = []   # change 실험의 결과값 저장할 리스트\n",
    "result_nochange = [] # nochange 실험의 결과값 저장할 리스트\n",
    "for i in range(100): # 100번을 실행하자\n",
    "    value = 0\n",
    "    for i in range(100):\n",
    "        value += change()\n",
    "    result_change.append(value) # 1회 시행의 값을 리스트에 넣자\n",
    "\n",
    "for i in range(100): # 100번을 실행하자\n",
    "    value = 0\n",
    "    for i in range(100):\n",
    "        value += nochange()\n",
    "    result_nochange.append(value) # 1회 시행의 값을 리스트에 넣자"
   ]
  },
  {
   "cell_type": "code",
   "execution_count": 49,
   "metadata": {
    "collapsed": false
   },
   "outputs": [
    {
     "data": {
      "text/plain": [
       "<matplotlib.text.Text at 0x7fe528cd52e8>"
      ]
     },
     "execution_count": 49,
     "metadata": {},
     "output_type": "execute_result"
    },
    {
     "data": {
      "image/png": "[encoded data removed]",
      "text/plain": [
       "<matplotlib.figure.Figure at 0x7fe528cf39e8>"
      ]
     },
     "metadata": {},
     "output_type": "display_data"
    }
   ],
   "source": [
    "plt.plot(result_change, label='Change') # change 실험의 값을 그리자\n",
    "plt.plot(result_nochange, label='No Change') # nochange 실험의 값을 그리자\n",
    "plt.legend()\n",
    "plt.title('Monty Hall Dilemma')\n",
    "plt.xlabel('Trial')\n",
    "plt.ylabel('? / 100')"
   ]
  },
  {
   "cell_type": "code",
   "execution_count": 50,
   "metadata": {
    "collapsed": false
   },
   "outputs": [
    {
     "data": {
      "text/plain": [
       "<matplotlib.legend.Legend at 0x7fe528ba4898>"
      ]
     },
     "execution_count": 50,
     "metadata": {},
     "output_type": "execute_result"
    },
    {
     "data": {
      "image/png": "[encoded data removed]",
      "text/plain": [
       "<matplotlib.figure.Figure at 0x7fe528c62a58>"
      ]
     },
     "metadata": {},
     "output_type": "display_data"
    }
   ],
   "source": [
    "plt.figure(figsize=(10, 5))\n",
    "plt.plot(result_change, label='Change')\n",
    "plt.plot(result_nochange, label='No Change')\n",
    "plt.legend()"
   ]
  },
  {
   "cell_type": "markdown",
   "metadata": {},
   "source": [
    "END"
   ]
  },
  {
   "cell_type": "code",
   "execution_count": null,
   "metadata": {
    "collapsed": true
   },
   "outputs": [],
   "source": []
  }
 ],
 "metadata": {
  "kernelspec": {
   "display_name": "Python 3",
   "language": "python",
   "name": "python3"
  },
  "language_info": {
   "codemirror_mode": {
    "name": "ipython",
    "version": 3
   },
   "file_extension": ".py",
   "mimetype": "text/x-python",
   "name": "python",
   "nbconvert_exporter": "python",
   "pygments_lexer": "ipython3",
   "version": "3.4.3"
  }
 },
 "nbformat": 4,
 "nbformat_minor": 2
}
